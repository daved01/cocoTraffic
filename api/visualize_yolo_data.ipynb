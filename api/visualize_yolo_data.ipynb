{
 "metadata": {
  "language_info": {
   "codemirror_mode": {
    "name": "ipython",
    "version": 3
   },
   "file_extension": ".py",
   "mimetype": "text/x-python",
   "name": "python",
   "nbconvert_exporter": "python",
   "pygments_lexer": "ipython3",
   "version": "3.8.5"
  },
  "orig_nbformat": 2,
  "kernelspec": {
   "name": "python385jvsc74a57bd0fcd4709a917a590fec2e0db407873d9a58c2d6950be1211cff5f061aa6d78bbc",
   "display_name": "Python 3.8.5 64-bit ('detector': conda)"
  },
  "metadata": {
   "interpreter": {
    "hash": "fcd4709a917a590fec2e0db407873d9a58c2d6950be1211cff5f061aa6d78bbc"
   }
  }
 },
 "nbformat": 4,
 "nbformat_minor": 2,
 "cells": [
  {
   "cell_type": "code",
   "execution_count": 1,
   "metadata": {},
   "outputs": [],
   "source": [
    "%matplotlib inline\n",
    "from pycocotools.coco import COCO\n",
    "\n",
    "import numpy as np\n",
    "import skimage.io as io\n",
    "import matplotlib.pyplot as plt\n",
    "import matplotlib.patches as patches\n",
    "import pylab\n",
    "import random\n",
    "import json\n",
    "import csv\n",
    "from shutil import copyfile\n",
    "import os\n",
    "\n",
    "pylab.rcParams['figure.figsize'] = (15.0, 20.0)"
   ]
  },
  {
   "cell_type": "code",
   "execution_count": 4,
   "metadata": {},
   "outputs": [],
   "source": [
    "classes_yolo = {'1':'person', '2':'bicycle', '3':'car', '4':'motorcycle', '5':'bus', '6':'train', '7':'truck', '8':'fire hydrant', '9':'stop sign', '10':'cat', '11':'dog', '12':'traffic_light_red', '13':'traffic_light_green', '14':'traffic_light_na', }"
   ]
  },
  {
   "cell_type": "code",
   "execution_count": 5,
   "metadata": {},
   "outputs": [],
   "source": [
    "def show_annotations(dataset_name, dataset_ext, img_number):\n",
    "    # Get all file names\n",
    "    file_path = '../labels/' + dataset_name\n",
    "\n",
    "    # Use this to iterate over all images\n",
    "    image_names = os.listdir(file_path + dataset_ext)\n",
    "\n",
    "    # Pick a filename\n",
    "    image_name = (image_names[img_number].split('.')[0] + \".jpg\").zfill(16)\n",
    "    #image_name = (image_id + '.jpg').zfill(16)\n",
    "\n",
    "    # Load annotation labels\n",
    "    labels = []\n",
    "    with open(file_path + dataset_ext + '/' + image_name.split('.')[0]+'.txt') as f:\n",
    "        reader = csv.reader(f, delimiter=' ')\n",
    "        for row in reader:\n",
    "            labels.append(row)\n",
    "\n",
    "    # Load image\n",
    "    I = io.imread('%s/images/%s/%s'%('..',dataset_name,image_name.split('.')[0]+'.jpg'))\n",
    "    fig, ax = plt.subplots()\n",
    "\n",
    "    # Colours for boxes\n",
    "    colours = {'12':'red', '13':'green', '14':'blue'}\n",
    "\n",
    "    for label in labels:\n",
    "        # Draw boxes\n",
    "        name = classes_yolo[label[0]]\n",
    "        # Transform coordinates so that boxes are plotted correctly\n",
    "        w = float(label[3]) * I.shape[1]\n",
    "        h = float(label[4]) * I.shape[0]\n",
    "        x = (float(label[1]) - 0.5 * float(label[3])) * I.shape[1]\n",
    "        y = (float(label[2]) - 0.5 * float(label[4])) * I.shape[0]\n",
    "\n",
    "        if label[0] in ['12','13','14']:\n",
    "            plt.text(x+1, y-5, name,fontdict={'fontsize':18.0, 'fontweight':'medium','color': 'white', 'backgroundcolor':colours[label[0]]})\n",
    "            bb = patches.Rectangle((x, y), w, h, linewidth=2, edgecolor=colours[label[0]], facecolor='none')\n",
    "            ax.add_patch(bb)\n",
    "        else:\n",
    "            plt.text(x+1, y-5, name,fontdict={'fontsize':18.0, 'fontweight':'medium','color': 'white', 'backgroundcolor':'gray'})\n",
    "            bb = patches.Rectangle((x, y), w, h, linewidth=2, edgecolor='gray', facecolor='none')\n",
    "            ax.add_patch(bb)\n",
    "    \n",
    "    ax.imshow(I)\n",
    "    ax.axis('off')\n",
    "    #plt.savefig('example.png')\n",
    "    plt.show()"
   ]
  },
  {
   "cell_type": "code",
   "execution_count": 19,
   "metadata": {},
   "outputs": [
    {
     "output_type": "error",
     "ename": "IndexError",
     "evalue": "list index out of range",
     "traceback": [
      "\u001b[0;31m---------------------------------------------------------------------------\u001b[0m",
      "\u001b[0;31mIndexError\u001b[0m                                Traceback (most recent call last)",
      "\u001b[0;32m<ipython-input-19-a101b121a9db>\u001b[0m in \u001b[0;36m<module>\u001b[0;34m\u001b[0m\n\u001b[1;32m      1\u001b[0m \u001b[0;31m# Get filenames of all files in the folder\u001b[0m\u001b[0;34m\u001b[0m\u001b[0;34m\u001b[0m\u001b[0;34m\u001b[0m\u001b[0m\n\u001b[1;32m      2\u001b[0m \u001b[0;31m# 5,\u001b[0m\u001b[0;34m\u001b[0m\u001b[0;34m\u001b[0m\u001b[0;34m\u001b[0m\u001b[0m\n\u001b[0;32m----> 3\u001b[0;31m \u001b[0mshow_annotations\u001b[0m\u001b[0;34m(\u001b[0m\u001b[0;34m'valTraffic'\u001b[0m\u001b[0;34m,\u001b[0m \u001b[0;34m'Relabelled'\u001b[0m\u001b[0;34m,\u001b[0m \u001b[0;36m10\u001b[0m\u001b[0;34m)\u001b[0m\u001b[0;34m\u001b[0m\u001b[0;34m\u001b[0m\u001b[0m\n\u001b[0m",
      "\u001b[0;32m<ipython-input-5-935a92a5fdbe>\u001b[0m in \u001b[0;36mshow_annotations\u001b[0;34m(dataset_name, dataset_ext, img_number)\u001b[0m\n\u001b[1;32m      7\u001b[0m \u001b[0;34m\u001b[0m\u001b[0m\n\u001b[1;32m      8\u001b[0m     \u001b[0;31m# Pick a filename\u001b[0m\u001b[0;34m\u001b[0m\u001b[0;34m\u001b[0m\u001b[0;34m\u001b[0m\u001b[0m\n\u001b[0;32m----> 9\u001b[0;31m     \u001b[0mimage_name\u001b[0m \u001b[0;34m=\u001b[0m \u001b[0;34m(\u001b[0m\u001b[0mimage_names\u001b[0m\u001b[0;34m[\u001b[0m\u001b[0mimg_number\u001b[0m\u001b[0;34m]\u001b[0m\u001b[0;34m.\u001b[0m\u001b[0msplit\u001b[0m\u001b[0;34m(\u001b[0m\u001b[0;34m'.'\u001b[0m\u001b[0;34m)\u001b[0m\u001b[0;34m[\u001b[0m\u001b[0;36m0\u001b[0m\u001b[0;34m]\u001b[0m \u001b[0;34m+\u001b[0m \u001b[0;34m\".jpg\"\u001b[0m\u001b[0;34m)\u001b[0m\u001b[0;34m.\u001b[0m\u001b[0mzfill\u001b[0m\u001b[0;34m(\u001b[0m\u001b[0;36m16\u001b[0m\u001b[0;34m)\u001b[0m\u001b[0;34m\u001b[0m\u001b[0;34m\u001b[0m\u001b[0m\n\u001b[0m\u001b[1;32m     10\u001b[0m     \u001b[0;31m#image_name = (image_id + '.jpg').zfill(16)\u001b[0m\u001b[0;34m\u001b[0m\u001b[0;34m\u001b[0m\u001b[0;34m\u001b[0m\u001b[0m\n\u001b[1;32m     11\u001b[0m \u001b[0;34m\u001b[0m\u001b[0m\n",
      "\u001b[0;31mIndexError\u001b[0m: list index out of range"
     ]
    }
   ],
   "source": [
    "# Get filenames of all files in the folder\n",
    "# 5, \n",
    "show_annotations('valTraffic', 'Relabelled', 10)"
   ]
  }
 ]
}